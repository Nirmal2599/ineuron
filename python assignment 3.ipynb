{
 "cells": [
  {
   "cell_type": "code",
   "execution_count": 12,
   "metadata": {},
   "outputs": [],
   "source": [
    "def division(a,b):\n",
    "    try:\n",
    "        return a/b\n",
    "    except Exception as b:\n",
    "        print(b)\n"
   ]
  },
  {
   "cell_type": "code",
   "execution_count": 13,
   "metadata": {},
   "outputs": [
    {
     "name": "stdout",
     "output_type": "stream",
     "text": [
      "division by zero\n"
     ]
    }
   ],
   "source": [
    "division(5,0)"
   ]
  },
  {
   "cell_type": "code",
   "execution_count": 14,
   "metadata": {},
   "outputs": [],
   "source": [
    "subjects=[\"Americans\",\"Indians\"]\n",
    "verb=[\"play\",\"watch\"]\n",
    "objects=[\"Basketball\",\"Cricket\"]"
   ]
  },
  {
   "cell_type": "code",
   "execution_count": 19,
   "metadata": {},
   "outputs": [
    {
     "name": "stdout",
     "output_type": "stream",
     "text": [
      "Americans play Basketball\n",
      "Americans play Cricket\n",
      "Americans watch Basketball\n",
      "Americans watch Cricket\n",
      "Indians play Basketball\n",
      "Indians play Cricket\n",
      "Indians watch Basketball\n",
      "Indians watch Cricket\n"
     ]
    }
   ],
   "source": [
    "for x in subjects:\n",
    "    for y in verb:\n",
    "        for z in objects:\n",
    "            print(f\"{x} {y} {z}\")"
   ]
  },
  {
   "cell_type": "code",
   "execution_count": null,
   "metadata": {},
   "outputs": [],
   "source": []
  },
  {
   "cell_type": "code",
   "execution_count": 40,
   "metadata": {},
   "outputs": [],
   "source": [
    "def  my_vander(X,n=None,increasing=False):\n",
    "    import numpy as np\n",
    "    n= len(X) if n==None else n\n",
    "    a=np.empty([len(X),n])\n",
    "    for columns in range(n):\n",
    "        for rows,v in enumerate(X):\n",
    "            a[rows][columns]=v**columns\n",
    "    np.set_printoptions(suppress=True)  \n",
    "    if increasing==True:\n",
    "        return a\n",
    "    else:\n",
    "        for x,i in enumerate(a):\n",
    "            a[x]=i[::-1]\n",
    "            \n",
    "        return a\n",
    "        "
   ]
  },
  {
   "cell_type": "code",
   "execution_count": 46,
   "metadata": {},
   "outputs": [
    {
     "data": {
      "text/plain": [
       "array([[  1.,   1.,   1.,   1.,   1.],\n",
       "       [ 16.,   8.,   4.,   2.,   1.],\n",
       "       [ 81.,  27.,   9.,   3.,   1.],\n",
       "       [256.,  64.,  16.,   4.,   1.]])"
      ]
     },
     "execution_count": 46,
     "metadata": {},
     "output_type": "execute_result"
    }
   ],
   "source": [
    "my_vander(np.array([1,2,3,4]),5,increasing =  False)"
   ]
  },
  {
   "cell_type": "code",
   "execution_count": null,
   "metadata": {},
   "outputs": [],
   "source": []
  }
 ],
 "metadata": {
  "kernelspec": {
   "display_name": "Python 3",
   "language": "python",
   "name": "python3"
  },
  "language_info": {
   "codemirror_mode": {
    "name": "ipython",
    "version": 3
   },
   "file_extension": ".py",
   "mimetype": "text/x-python",
   "name": "python",
   "nbconvert_exporter": "python",
   "pygments_lexer": "ipython3",
   "version": "3.7.4"
  }
 },
 "nbformat": 4,
 "nbformat_minor": 2
}
